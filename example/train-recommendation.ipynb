{
 "cells": [
  {
   "cell_type": "code",
   "execution_count": 7,
   "id": "57c28833",
   "metadata": {
    "execution": {
     "iopub.execute_input": "2022-04-14T10:50:13.126742Z",
     "iopub.status.busy": "2022-04-14T10:50:13.125946Z",
     "iopub.status.idle": "2022-04-14T10:50:13.129991Z",
     "shell.execute_reply": "2022-04-14T10:50:13.129385Z",
     "shell.execute_reply.started": "2022-04-14T10:50:13.126714Z"
    },
    "tags": []
   },
   "outputs": [],
   "source": [
    "# %%configure -f\n",
    "# { \"conf\": {\n",
    "#      \"driverMemory\":\"4g\",\n",
    "#     \"executorMemory\":\"8960m\"\n",
    "#  }\n",
    "# }\n",
    "import os\n",
    "os.environ['PYSPARK_SUBMIT_ARGS'] = '--driver-memory 4g --executor-memory 8960m --packages JohnSnowLabs:spark-nlp:1.3.0 pyspark-shell'\n"
   ]
  },
  {
   "cell_type": "code",
   "execution_count": 3,
   "id": "076d18c5-07eb-4038-bb3b-c1a16894a4a1",
   "metadata": {
    "execution": {
     "iopub.execute_input": "2022-04-14T10:49:38.042199Z",
     "iopub.status.busy": "2022-04-14T10:49:38.041763Z",
     "iopub.status.idle": "2022-04-14T10:49:38.049856Z",
     "shell.execute_reply": "2022-04-14T10:49:38.049182Z",
     "shell.execute_reply.started": "2022-04-14T10:49:38.042174Z"
    },
    "tags": []
   },
   "outputs": [
    {
     "ename": "RuntimeError",
     "evalue": "list_packages can only use called when spark.pyspark.virtualenv.enabled is set to true",
     "output_type": "error",
     "traceback": [
      "\u001b[0;31m---------------------------------------------------------------------------\u001b[0m",
      "\u001b[0;31mRuntimeError\u001b[0m                              Traceback (most recent call last)",
      "\u001b[0;32m/usr/local/bin/kernel-launchers/python/scripts/launch_ipykernel.py\u001b[0m in \u001b[0;36m<module>\u001b[0;34m\u001b[0m\n\u001b[0;32m----> 1\u001b[0;31m \u001b[0msc\u001b[0m\u001b[0;34m.\u001b[0m\u001b[0mlist_packages\u001b[0m\u001b[0;34m(\u001b[0m\u001b[0;34m)\u001b[0m\u001b[0;34m\u001b[0m\u001b[0;34m\u001b[0m\u001b[0m\n\u001b[0m",
      "\u001b[0;32m/usr/lib/spark/python/lib/pyspark.zip/pyspark/context.py\u001b[0m in \u001b[0;36mlist_packages\u001b[0;34m(self)\u001b[0m\n\u001b[1;32m   1348\u001b[0m         \"\"\"\n\u001b[1;32m   1349\u001b[0m         \u001b[0;32mif\u001b[0m \u001b[0mself\u001b[0m\u001b[0;34m.\u001b[0m\u001b[0m_conf\u001b[0m\u001b[0;34m.\u001b[0m\u001b[0mget\u001b[0m\u001b[0;34m(\u001b[0m\u001b[0;34m\"spark.pyspark.virtualenv.enabled\"\u001b[0m\u001b[0;34m)\u001b[0m \u001b[0;34m!=\u001b[0m \u001b[0;34m\"true\"\u001b[0m\u001b[0;34m:\u001b[0m\u001b[0;34m\u001b[0m\u001b[0;34m\u001b[0m\u001b[0m\n\u001b[0;32m-> 1350\u001b[0;31m             raise RuntimeError(\"list_packages can only use called when \"\n\u001b[0m\u001b[1;32m   1351\u001b[0m                            \"spark.pyspark.virtualenv.enabled is set to true\")\n\u001b[1;32m   1352\u001b[0m \u001b[0;34m\u001b[0m\u001b[0m\n",
      "\u001b[0;31mRuntimeError\u001b[0m: list_packages can only use called when spark.pyspark.virtualenv.enabled is set to true"
     ]
    }
   ],
   "source": [
    "sc.list_packages()"
   ]
  },
  {
   "cell_type": "code",
   "execution_count": 4,
   "id": "ab8e1cdf-af66-47b0-97af-83933bf0babc",
   "metadata": {
    "execution": {
     "iopub.execute_input": "2022-04-14T10:49:42.200137Z",
     "iopub.status.busy": "2022-04-14T10:49:42.199591Z",
     "iopub.status.idle": "2022-04-14T10:49:43.936481Z",
     "shell.execute_reply": "2022-04-14T10:49:43.935774Z",
     "shell.execute_reply.started": "2022-04-14T10:49:42.200110Z"
    },
    "tags": []
   },
   "outputs": [
    {
     "name": "stdout",
     "output_type": "stream",
     "text": [
      "Defaulting to user installation because normal site-packages is not writeable\n",
      "Collecting spark-nlp\n",
      "  Downloading spark_nlp-3.4.3-py2.py3-none-any.whl (144 kB)\n",
      "\u001b[K     |████████████████████████████████| 144 kB 44.9 MB/s eta 0:00:01\n",
      "\u001b[?25hInstalling collected packages: spark-nlp\n",
      "Successfully installed spark-nlp-3.4.3\n",
      "CPU times: user 25.1 ms, sys: 14.2 ms, total: 39.3 ms\n",
      "Wall time: 1.73 s\n"
     ]
    }
   ],
   "source": [
    "%%time\n",
    "!python3 -m pip install spark-nlp"
   ]
  },
  {
   "cell_type": "code",
   "execution_count": 5,
   "id": "b601e49e-4d34-47c9-aa79-390bfeff41b1",
   "metadata": {
    "execution": {
     "iopub.execute_input": "2022-04-14T10:49:52.530461Z",
     "iopub.status.busy": "2022-04-14T10:49:52.530227Z",
     "iopub.status.idle": "2022-04-14T10:49:52.538933Z",
     "shell.execute_reply": "2022-04-14T10:49:52.538272Z",
     "shell.execute_reply.started": "2022-04-14T10:49:52.530435Z"
    },
    "tags": []
   },
   "outputs": [],
   "source": [
    "%%sh\n",
    "export PYTHONPATH=$SPARK_HOME/python:$PYTHONPATH"
   ]
  },
  {
   "cell_type": "code",
   "execution_count": 6,
   "id": "f0a407f0",
   "metadata": {
    "execution": {
     "iopub.execute_input": "2022-04-14T10:50:05.719980Z",
     "iopub.status.busy": "2022-04-14T10:50:05.719757Z",
     "iopub.status.idle": "2022-04-14T10:50:05.731000Z",
     "shell.execute_reply": "2022-04-14T10:50:05.730103Z",
     "shell.execute_reply.started": "2022-04-14T10:50:05.719956Z"
    },
    "tags": []
   },
   "outputs": [
    {
     "ename": "ModuleNotFoundError",
     "evalue": "No module named 'sparknlp'",
     "output_type": "error",
     "traceback": [
      "\u001b[0;31m---------------------------------------------------------------------------\u001b[0m",
      "\u001b[0;31mModuleNotFoundError\u001b[0m                       Traceback (most recent call last)",
      "\u001b[0;32m/usr/local/bin/kernel-launchers/python/scripts/launch_ipykernel.py\u001b[0m in \u001b[0;36m<module>\u001b[0;34m\u001b[0m\n\u001b[1;32m      3\u001b[0m \u001b[0;31m#import pandas as pd\u001b[0m\u001b[0;34m\u001b[0m\u001b[0;34m\u001b[0m\u001b[0;34m\u001b[0m\u001b[0m\n\u001b[1;32m      4\u001b[0m \u001b[0;31m# This block is for sparknlp stuff\u001b[0m\u001b[0;34m\u001b[0m\u001b[0;34m\u001b[0m\u001b[0;34m\u001b[0m\u001b[0m\n\u001b[0;32m----> 5\u001b[0;31m \u001b[0;32mimport\u001b[0m \u001b[0msparknlp\u001b[0m\u001b[0;34m\u001b[0m\u001b[0;34m\u001b[0m\u001b[0m\n\u001b[0m\u001b[1;32m      6\u001b[0m \u001b[0;32mfrom\u001b[0m \u001b[0msparknlp\u001b[0m\u001b[0;34m.\u001b[0m\u001b[0mannotator\u001b[0m \u001b[0;32mimport\u001b[0m \u001b[0;34m*\u001b[0m\u001b[0;34m\u001b[0m\u001b[0;34m\u001b[0m\u001b[0m\n\u001b[1;32m      7\u001b[0m \u001b[0;32mfrom\u001b[0m \u001b[0msparknlp\u001b[0m\u001b[0;34m.\u001b[0m\u001b[0mbase\u001b[0m \u001b[0;32mimport\u001b[0m \u001b[0;34m*\u001b[0m\u001b[0;34m\u001b[0m\u001b[0;34m\u001b[0m\u001b[0m\n",
      "\u001b[0;31mModuleNotFoundError\u001b[0m: No module named 'sparknlp'"
     ]
    }
   ],
   "source": [
    "# Packages to download the corpus and pandas\n",
    "import urllib.request\n",
    "#import pandas as pd\n",
    "# This block is for sparknlp stuff\n",
    "import sparknlp\n",
    "from sparknlp.annotator import *\n",
    "from sparknlp.base import *\n",
    "# This block is for pyspark stuff\n",
    "import pyspark.sql.functions as F\n",
    "import pyspark.sql.types as T\n",
    "from pyspark.ml.linalg import Vectors, VectorUDT\n",
    "from pyspark.ml.feature import BucketedRandomProjectionLSH, BucketedRandomProjectionLSHModel"
   ]
  },
  {
   "cell_type": "code",
   "execution_count": null,
   "id": "a4195953",
   "metadata": {},
   "outputs": [],
   "source": [
    "spark = sparknlp.start()"
   ]
  },
  {
   "cell_type": "code",
   "execution_count": null,
   "id": "312e7d67",
   "metadata": {},
   "outputs": [],
   "source": [
    "urls = spark.read.json(\"s3://your-bucket/datasets/aws-blogs/json/list.json\")"
   ]
  },
  {
   "cell_type": "code",
   "execution_count": null,
   "id": "e5bd935a",
   "metadata": {},
   "outputs": [],
   "source": [
    "urls.printSchema()"
   ]
  },
  {
   "cell_type": "code",
   "execution_count": null,
   "id": "444c5496",
   "metadata": {},
   "outputs": [],
   "source": [
    "medlineplusDF = urls.withColumn(\n",
    "    \"text\",\n",
    "    F.concat(\n",
    "        F.col(\"title\"), \n",
    "        F.lit(\" \"), \n",
    "        F.col(\"postExcerpt\")\n",
    "    )\n",
    ").select(\"title\", F.col(\"link\").alias(\"url\"), \"text\")\n",
    "\n",
    "medlineplusDF.show(1,1000)\n"
   ]
  },
  {
   "cell_type": "code",
   "execution_count": null,
   "id": "d8a45ea1",
   "metadata": {},
   "outputs": [],
   "source": [
    "docass = DocumentAssembler()\\\n",
    "    .setInputCol(\"text\")\\\n",
    "    .setOutputCol(\"document\")\n",
    "\n",
    "sentence_detector_dl = SentenceDetector()\\\n",
    "    .setInputCols([\"document\"])\\\n",
    "    .setOutputCol(\"sentence\")\n",
    "\n",
    "emb_use = UniversalSentenceEncoder.pretrained()\\\n",
    "    .setInputCols(\"sentence\")\\\n",
    "    .setOutputCol(\"use_embeddings\")\n"
   ]
  },
  {
   "cell_type": "code",
   "execution_count": null,
   "id": "0d9e93ec",
   "metadata": {},
   "outputs": [],
   "source": [
    "pipeline_use = Pipeline(\n",
    "    stages=[\n",
    "        docass, \n",
    "        sentence_detector_dl, \n",
    "        emb_use\n",
    "        ]\n",
    "    )\n",
    "\n",
    "# Fit (or prepare) the pipeline into a model\n",
    "model_use = pipeline_use.fit(medlineplusDF)\n",
    "\n",
    "model_use.save(\"hdfs:///user/diego/model_use.model\")\n",
    "# Apply the model to our medlineplusDF content and save in a new dataframe\n",
    "medlineplusSentencesDF_init = model_use.transform(medlineplusDF)"
   ]
  },
  {
   "cell_type": "code",
   "execution_count": null,
   "id": "3b483ce3",
   "metadata": {},
   "outputs": [],
   "source": [
    "medlineplusSentencesDF = medlineplusSentencesDF_init.select(\n",
    "  F.col(\"title\"),\n",
    "  F.col(\"url\"),\n",
    "  F.arrays_zip(\n",
    "    F.col(\"sentence.result\").alias(\"sentence\"),\n",
    "    F.col(\"sentence.begin\").alias(\"begin\"),\n",
    "    F.col(\"sentence.end\").alias(\"end\"),\n",
    "    F.col(\"use_embeddings.embeddings\")\n",
    "  ).alias(\"zip\")\n",
    ").select(\n",
    "  F.col(\"title\"),\n",
    "  F.col(\"url\"),\n",
    "  F.explode(F.col(\"zip\")).alias(\"zip\")\n",
    ").select(\n",
    "  F.col(\"title\"),\n",
    "  F.col(\"url\"),\n",
    "  F.col(\"zip\")['0'].alias(\"sentence\"),\n",
    "  F.col(\"zip\")['1'].alias(\"begin\"),\n",
    "  F.col(\"zip\")['2'].alias(\"end\"),\n",
    "  F.col(\"zip\")['3'].alias(\"embeddings\")\n",
    ").repartition(100)"
   ]
  },
  {
   "cell_type": "code",
   "execution_count": null,
   "id": "b3f1076e",
   "metadata": {},
   "outputs": [],
   "source": [
    "def avg_vectors(bert_vectors):\n",
    "  \n",
    "  length = len(bert_vectors[0][\"embeddings\"])\n",
    "  avg_vec = [0] * length\n",
    "  \n",
    "  for vec in bert_vectors:\n",
    "    for i, x in enumerate(vec[\"embeddings\"]):\n",
    "      avg_vec[i] += x\n",
    "    avg_vec[i] = avg_vec[i] / length\n",
    "  return avg_vec\n",
    "\n",
    "import pyspark.sql.types as T\n",
    "\n",
    "avg_vectors_udf = F.udf(avg_vectors, T.ArrayType(T.DoubleType()))\n",
    "\n",
    "myudf = F.udf(lambda vs: Vectors.dense(vs), VectorUDT())\n",
    "\n",
    "df_doc_vec = medlineplusSentencesDF.withColumn(\"doc_vector\", avg_vectors_udf(F.col(\"embeddings\")))"
   ]
  },
  {
   "cell_type": "code",
   "execution_count": null,
   "id": "f82ad56b",
   "metadata": {},
   "outputs": [],
   "source": [
    "medlineplusSentencesDF_dv = df_doc_vec.select(\n",
    "  \"title\", \n",
    "  \"url\", \n",
    "  \"sentence\", \n",
    "  \"begin\", \n",
    "  \"end\", \n",
    "  myudf(\"embeddings\").alias(\"embeddings\")\n",
    ")"
   ]
  },
  {
   "cell_type": "code",
   "execution_count": null,
   "id": "5c4bfc11",
   "metadata": {},
   "outputs": [],
   "source": [
    "def get_key(query, model):\n",
    "  queryDF = spark.createDataFrame([[query]]).toDF(\"text\")\n",
    "  queryDF = model.transform(queryDF)\n",
    "  queryDF = queryDF.select(\n",
    "    F.explode(\n",
    "      F.arrays_zip(\n",
    "        F.col(\"sentence.result\"),\n",
    "        F.col(\"use_embeddings.embeddings\")\n",
    "      )\n",
    "    ).alias(\"zip\")\n",
    "  ).select(\n",
    "    F.col(\"zip\")['0'].alias(\"sentence\"),\n",
    "    myudf(F.col(\"zip\")['1']).alias(\"embeddings\")\n",
    "  )  \n",
    "\n",
    "  key = queryDF.select(\"embeddings\").take(1)[0].embeddings\n",
    "  return key"
   ]
  },
  {
   "cell_type": "code",
   "execution_count": null,
   "id": "9a8b416b",
   "metadata": {},
   "outputs": [],
   "source": [
    "get_key(\"How to stream from Hbase?\", model_use)"
   ]
  },
  {
   "cell_type": "code",
   "execution_count": null,
   "id": "f254d697",
   "metadata": {},
   "outputs": [],
   "source": [
    "brp = BucketedRandomProjectionLSH(\n",
    " inputCol=\"embeddings\",\n",
    " outputCol=\"hashes\",\n",
    " bucketLength=5,\n",
    " numHashTables=10\n",
    ")\n",
    "\n",
    "# Fit the LSH model for our content\n",
    "brp_model = brp.fit(medlineplusSentencesDF_dv)\n",
    "brp_model.save(\"hdfs:///user/diego/brp_model.model\")\n",
    "# Apply the model to our content and get the new reduced\n",
    "# representation\n",
    "hashesDF = brp_model.transform(medlineplusSentencesDF_dv).persist()\n",
    "hashesDF.write.parquet(\"hdfs:///user/diego/output\")"
   ]
  },
  {
   "cell_type": "code",
   "execution_count": null,
   "id": "e5747c93",
   "metadata": {},
   "outputs": [],
   "source": [
    "def find_close_sentences(query, emb_model, brp_model, hashesDF, k):\n",
    "  key = get_key(query, emb_model)\n",
    "  resultsDF = brp_model.approxNearestNeighbors(hashesDF, key, k)\n",
    "  return resultsDF"
   ]
  },
  {
   "cell_type": "code",
   "execution_count": null,
   "id": "b97a2977",
   "metadata": {},
   "outputs": [],
   "source": [
    "find_close_sentences(\"how to monitoring spark streaming?\", model_use, brp_model, hashesDF, 5).select(F.col(\"title\"),F.col(\"distCol\"),F.col(\"sentence\")).show(truncate=False)"
   ]
  },
  {
   "cell_type": "code",
   "execution_count": null,
   "id": "db49c3f6",
   "metadata": {},
   "outputs": [],
   "source": []
  }
 ],
 "metadata": {
  "kernelspec": {
   "display_name": "PySpark (Kubernetes)",
   "language": "python",
   "name": "spark_python_kubernetes"
  },
  "language_info": {
   "codemirror_mode": {
    "name": "ipython",
    "version": 3
   },
   "file_extension": ".py",
   "mimetype": "text/x-python",
   "name": "python",
   "nbconvert_exporter": "python",
   "pygments_lexer": "ipython3",
   "version": "3.7.10"
  }
 },
 "nbformat": 4,
 "nbformat_minor": 5
}
